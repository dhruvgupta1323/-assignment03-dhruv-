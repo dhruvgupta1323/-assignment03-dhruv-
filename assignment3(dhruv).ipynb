{
 "cells": [
  {
   "cell_type": "markdown",
   "id": "00211d85-dcad-4e45-93a8-add51a55a4d1",
   "metadata": {},
   "source": [
    "1.\n",
    "What is the primary goal of Object-Oriented Programming (OOP)?"
   ]
  },
  {
   "cell_type": "markdown",
   "id": "106eb03a-259d-4990-baca-506e239ec3b4",
   "metadata": {},
   "source": [
    "ans1>\n",
    "The main goal of Object-Oriented Programming (OOP) is to organize code in a way that makes it easier to build, manage, and reuse."
   ]
  },
  {
   "cell_type": "markdown",
   "id": "bc0f8ee0-53ef-42bf-89bd-e730dc686c90",
   "metadata": {},
   "source": [
    "2. What is an object in Python?\r"
   ]
  },
  {
   "cell_type": "markdown",
   "id": "2462eeb4-1fb5-4feb-a95b-a4950d63e64c",
   "metadata": {},
   "source": [
    "ans2.>\n",
    "In Python, an object is an instance of a class. Everything in Python, such as numbers, strings, lists, and functions, is an object. Objects are entities that have two main characteristics:"
   ]
  },
  {
   "cell_type": "markdown",
   "id": "cc845912-68b3-4e5d-ba30-ccfffb3b82af",
   "metadata": {},
   "source": [
    "3. What is a class in Python?"
   ]
  },
  {
   "cell_type": "markdown",
   "id": "27ee6a72-dd07-4fbe-afca-ec4460f1b540",
   "metadata": {},
   "source": [
    "ans3>Attributes: Variables that store data related to the object (e.g., name, age, color).\n",
    "\n",
    "\n",
    "\n",
    "Methods: Functions that define the behaviors or actions that the objects of the class can perform."
   ]
  },
  {
   "cell_type": "markdown",
   "id": "3c0a9e6a-a5cf-4469-a7d3-1f9a34b1c463",
   "metadata": {},
   "source": [
    "4. What are attributes and methods in a class?\n"
   ]
  },
  {
   "cell_type": "markdown",
   "id": "647fe636-27dd-4ac7-9f0c-81610ceed685",
   "metadata": {},
   "source": [
    "ANS4>\n",
    "Attributes:\n",
    "These are like the characteristics or details about an object. They store information.\n",
    "\n",
    "\n",
    "Example: If you have a Person object, attributes can be things like name, age, or height.\n",
    "\n",
    "\n",
    "Methods:\n",
    "These are the actions or things an object can do. Methods are like functions that are part of the object.\n",
    "\n",
    "\n",
    "Example: For a Person object, methods might include things like talk(), walk(), or introduce().\n",
    " "
   ]
  },
  {
   "cell_type": "markdown",
   "id": "550dffd9-3be9-4159-9bad-5bfe4991bf4b",
   "metadata": {},
   "source": [
    "5. What is the difference between class variables and instance variables in Python?\n",
    "   "
   ]
  },
  {
   "cell_type": "raw",
   "id": "7ce6048e-7386-43c0-a273-655b4042e66d",
   "metadata": {},
   "source": [
    "Class Variables:\n",
    "\n",
    "Shared across all instances of the class.\n",
    "Defined inside the class but outside of any methods.\n",
    "Changing the value of a class variable affects all instances.\n",
    "Instance Variables:\n",
    "\n",
    "Specific to each instance of the class.\n",
    "Defined inside a method, typically __init__().\n",
    "Changes to an instance variable only affect that particular instance, not others."
   ]
  },
  {
   "cell_type": "code",
   "execution_count": null,
   "id": "9f151233-c99b-4d2f-a4f0-e64d4190f310",
   "metadata": {},
   "outputs": [],
   "source": [
    "class Car:\n",
    "    wheels = 4  # Class variable\n",
    "\n",
    "    def __init__(self, color):\n",
    "        self.color = color  # Instance variable\n"
   ]
  },
  {
   "cell_type": "code",
   "execution_count": null,
   "id": "d28b7b85-dc3d-4201-b94d-6a898c936ef7",
   "metadata": {},
   "outputs": [],
   "source": [
    "7. For a library management system, you have to design the \"Book\" class with OOP\n",
    "principles in mind. The “Book” class will have following attributes:\n",
    "a. title: Represents the title of the book.\n",
    "b. author: Represents the author(s) of the book.\n",
    "c. isbn: Represents the ISBN (International Standard Book Number) of the book.\n",
    "d. publication_year: Represents the year of publication of the book.\n",
    "e. available_copies: Represents the number of copies available for checkout.\n",
    "The class will also include the following methods:\n",
    "a. check_out(self): Decrements the available copies by one if there are copies\n",
    "available for checkout.\n",
    "b. return_book(self): Increments the available copies by one when a book is\n",
    "returned.\n",
    "c. display_book_info(self): Displays the information about the book, including its\n",
    "attributes and the number of available copies."
   ]
  },
  {
   "cell_type": "code",
   "execution_count": 1,
   "id": "89d9a2f5-5446-450b-b6b2-a539f3f5804c",
   "metadata": {},
   "outputs": [
    {
     "name": "stdout",
     "output_type": "stream",
     "text": [
      "Title: 1984\n",
      "Author(s): George Orwell\n",
      "ISBN: 123456789\n",
      "Publication Year: 1949\n",
      "Available Copies: 3\n",
      "Book \"1984\" checked out successfully.\n",
      "Title: 1984\n",
      "Author(s): George Orwell\n",
      "ISBN: 123456789\n",
      "Publication Year: 1949\n",
      "Available Copies: 2\n",
      "Book \"1984\" returned successfully.\n",
      "Title: 1984\n",
      "Author(s): George Orwell\n",
      "ISBN: 123456789\n",
      "Publication Year: 1949\n",
      "Available Copies: 3\n"
     ]
    }
   ],
   "source": [
    "class Book:\n",
    "    def __init__(self, title, author, isbn, publication_year, available_copies):\n",
    "        self.title = title  \n",
    "        self.author = author  \n",
    "        self.isbn = isbn   \n",
    "        self.publication_year = publication_year  \n",
    "        self.available_copies = available_copies  \n",
    "    \n",
    "    def check_out(self):\n",
    "        \"\"\"Decrement the available copies by one if possible.\"\"\"\n",
    "        if self.available_copies > 0:\n",
    "            self.available_copies -= 1\n",
    "            print(f'Book \"{self.title}\" checked out successfully.')\n",
    "        else:\n",
    "            print(f'No copies of \"{self.title}\" are available for checkout.')\n",
    "    \n",
    "    def return_book(self):\n",
    "        \"\"\"Increment the available copies by one when a book is returned.\"\"\"\n",
    "        self.available_copies += 1\n",
    "        print(f'Book \"{self.title}\" returned successfully.')\n",
    "    \n",
    "    def display_book_info(self):\n",
    "        \"\"\"Display information about the book.\"\"\"\n",
    "        print(f'Title: {self.title}')\n",
    "        print(f'Author(s): {self.author}')\n",
    "        print(f'ISBN: {self.isbn}')\n",
    "        print(f'Publication Year: {self.publication_year}')\n",
    "        print(f'Available Copies: {self.available_copies}')\n",
    "\n",
    "\n",
    " \n",
    "book1 = Book(\"1984\", \"George Orwell\", \"123456789\", 1949, 3)\n",
    "\n",
    " \n",
    "book1.display_book_info()\n",
    "\n",
    " \n",
    "book1.check_out()\n",
    "\n",
    " \n",
    "book1.display_book_info()\n",
    "\n",
    " \n",
    "book1.return_book()\n",
    " \n",
    "book1.display_book_info()\n"
   ]
  },
  {
   "cell_type": "code",
   "execution_count": null,
   "id": "b6e63164-765b-4b2d-b6bc-65aec272a869",
   "metadata": {},
   "outputs": [],
   "source": [
    "8. For a ticket booking system, you have to design the \"Ticket\" class with OOP\n",
    "principles in mind. The “Ticket” class should have the following attributes:\n",
    "a. ticket_id: Represents the unique identifier for the ticket.\n",
    "b. event_name: Represents the name of the event.\n",
    "c. event_date: Represents the date of the event.\n",
    "d. venue: Represents the venue of the event.\n",
    "e. seat_number: Represents the seat number associated with the ticket.\n",
    "f. price: Represents the price of the ticket.\n",
    "g. is_reserved: Represents the reservation status of the ticket.\n",
    "The class also includes the following methods:\n",
    "a. reserve_ticket(self): Marks the ticket as reserved if it is not already reserved.\n",
    "b. cancel_reservation(self): Cancels the reservation of the ticket if it is already\n",
    "reserved.\n",
    "c. display_ticket_info(self): Displays the information about the ticket, including its\n",
    "attributes and reservation status"
   ]
  },
  {
   "cell_type": "code",
   "execution_count": 2,
   "id": "4556c6e3-3001-4612-8f81-0ff29594225d",
   "metadata": {},
   "outputs": [
    {
     "name": "stdout",
     "output_type": "stream",
     "text": [
      "Ticket ID: 101\n",
      "Event Name: Concert\n",
      "Event Date: 2024-10-12\n",
      "Venue: City Stadium\n",
      "Seat Number: A15\n",
      "Price: $150.00\n",
      "Reservation Status: Not Reserved\n",
      "Ticket 101 for 'Concert' has been reserved.\n",
      "Ticket ID: 101\n",
      "Event Name: Concert\n",
      "Event Date: 2024-10-12\n",
      "Venue: City Stadium\n",
      "Seat Number: A15\n",
      "Price: $150.00\n",
      "Reservation Status: Reserved\n",
      "Reservation for ticket 101 has been canceled.\n",
      "Ticket ID: 101\n",
      "Event Name: Concert\n",
      "Event Date: 2024-10-12\n",
      "Venue: City Stadium\n",
      "Seat Number: A15\n",
      "Price: $150.00\n",
      "Reservation Status: Not Reserved\n"
     ]
    }
   ],
   "source": [
    "class Ticket:\n",
    "    def __init__(self, ticket_id, event_name, event_date, venue, seat_number, price):\n",
    "        self.ticket_id = ticket_id  \n",
    "        self.event_name = event_name  \n",
    "        self.event_date = event_date  \n",
    "        self.venue = venue   \n",
    "        self.seat_number = seat_number  \n",
    "        self.price = price  \n",
    "        self.is_reserved = False  \n",
    "\n",
    "    def reserve_ticket(self):\n",
    "        \"\"\"Mark the ticket as reserved if not already reserved.\"\"\"\n",
    "        if not self.is_reserved:\n",
    "            self.is_reserved = True\n",
    "            print(f\"Ticket {self.ticket_id} for '{self.event_name}' has been reserved.\")\n",
    "        else:\n",
    "            print(f\"Ticket {self.ticket_id} is already reserved.\")\n",
    "    \n",
    "    def cancel_reservation(self):\n",
    "        \"\"\"Cancel the reservation of the ticket if it's already reserved.\"\"\"\n",
    "        if self.is_reserved:\n",
    "            self.is_reserved = False\n",
    "            print(f\"Reservation for ticket {self.ticket_id} has been canceled.\")\n",
    "        else:\n",
    "            print(f\"Ticket {self.ticket_id} is not currently reserved.\")\n",
    "    \n",
    "    def display_ticket_info(self):\n",
    "        \"\"\"Display information about the ticket.\"\"\"\n",
    "        print(f\"Ticket ID: {self.ticket_id}\")\n",
    "        print(f\"Event Name: {self.event_name}\")\n",
    "        print(f\"Event Date: {self.event_date}\")\n",
    "        print(f\"Venue: {self.venue}\")\n",
    "        print(f\"Seat Number: {self.seat_number}\")\n",
    "        print(f\"Price: ${self.price:.2f}\")\n",
    "        print(f\"Reservation Status: {'Reserved' if self.is_reserved else 'Not Reserved'}\")\n",
    "\n",
    " \n",
    "ticket1 = Ticket(101, \"Concert\", \"2024-10-12\", \"City Stadium\", \"A15\", 150.00)\n",
    "\n",
    " \n",
    "ticket1.display_ticket_info()\n",
    " \n",
    "ticket1.reserve_ticket()\n",
    " \n",
    "ticket1.display_ticket_info()\n",
    "\n",
    " \n",
    "ticket1.cancel_reservation()\n",
    " \n",
    "ticket1.display_ticket_info()\n"
   ]
  },
  {
   "cell_type": "code",
   "execution_count": null,
   "id": "32c4148d-337e-4f37-b4e2-8a6b84c792c2",
   "metadata": {},
   "outputs": [],
   "source": [
    "9. You are creating a shopping cart for an e-commerce website. Using OOP to model\n",
    "the \"ShoppingCart\" functionality the class should contain following attributes and\n",
    "methods:\n",
    "a. items: Represents the list of items in the shopping cart.\n",
    "The class also includes the following methods:\n",
    "a. add_item(self, item): Adds an item to the shopping cart by appending it to the\n",
    "list of items.\n",
    "b. remove_item(self, item): Removes an item from the shopping cart if it exists in\n",
    "the list.\n",
    "c. view_cart(self): Displays the items currently present in the shopping cart.\n",
    "d. clear_cart(self): Clears all items from the shopping cart by reassigning an\n",
    "empty list to the items attribute."
   ]
  },
  {
   "cell_type": "code",
   "execution_count": 4,
   "id": "1ff8414b-da6a-448e-9e8c-e6773bdce178",
   "metadata": {},
   "outputs": [
    {
     "name": "stdout",
     "output_type": "stream",
     "text": [
      "Laptop has been added to the cart.\n",
      "Phone has been added to the cart.\n",
      "Items in your cart:\n",
      "- Laptop\n",
      "- Phone\n",
      "Phone has been removed from the cart.\n",
      "Items in your cart:\n",
      "- Laptop\n",
      "The cart has been cleared.\n",
      "Your cart is empty.\n"
     ]
    }
   ],
   "source": [
    "class ShoppingCart:\n",
    "    def __init__(self):\n",
    " \n",
    "        self.items = []\n",
    "\n",
    "    def add_item(self, item):\n",
    " \n",
    "        self.items.append(item)\n",
    "        print(f\"{item} has been added to the cart.\")\n",
    "\n",
    "    def remove_item(self, item):\n",
    "        \n",
    "        if item in self.items:\n",
    "            self.items.remove(item)\n",
    "            print(f\"{item} has been removed from the cart.\")\n",
    "        else:\n",
    "            print(f\"{item} is not in the cart.\")\n",
    "\n",
    "    def view_cart(self):\n",
    "         \n",
    "        if self.items:\n",
    "            print(\"Items in your cart:\")\n",
    "            for item in self.items:\n",
    "                print(f\"- {item}\")\n",
    "        else:\n",
    "            print(\"Your cart is empty.\")\n",
    "\n",
    "    def clear_cart(self):\n",
    "      \n",
    "        self.items = []\n",
    "        print(\"The cart has been cleared.\")\n",
    "\n",
    " \n",
    "cart = ShoppingCart()\n",
    "cart.add_item(\"Laptop\")\n",
    "cart.add_item(\"Phone\")\n",
    "cart.view_cart()\n",
    "cart.remove_item(\"Phone\")\n",
    "cart.view_cart()\n",
    "cart.clear_cart()\n",
    "cart.view_cart()\n"
   ]
  },
  {
   "cell_type": "code",
   "execution_count": null,
   "id": "7b2060ec-67a2-4b61-a216-53fbae1d2aa5",
   "metadata": {},
   "outputs": [],
   "source": [
    "10. Imagine a school management system. You have to design the \"Student\" class using\n",
    "OOP concepts.The “Student” class has the following attributes:\n",
    "a. name: Represents the name of the student.\n",
    "b. age: Represents the age of the student.\n",
    "c. grade: Represents the grade or class of the student.\n",
    "d. student_id: Represents the unique identifier for the student.\n",
    "e. attendance: Represents the attendance record of the student.\n",
    "The class should also include the following methods:\n",
    "a. update_attendance(self, date, status): Updates the attendance record of the\n",
    "student for a given date with the provided status (e.g., present or absent).\n",
    "b. get_attendance(self): Returns the attendance record of the student.\n",
    "c. get_average_attendance(self): Calculates and returns the average\n",
    "attendance percentage of the student based on their attendance record."
   ]
  },
  {
   "cell_type": "code",
   "execution_count": 3,
   "id": "07f30c27-21c8-4120-9bb2-75ba720952a6",
   "metadata": {},
   "outputs": [
    {
     "name": "stdout",
     "output_type": "stream",
     "text": [
      "Attendance for John Doe has been marked present on 2024-09-20\n",
      "Attendance for John Doe has been marked absent on 2024-09-21\n",
      "Attendance for John Doe has been marked present on 2024-09-22\n",
      "Attendance Record: {'2024-09-20': 'present', '2024-09-21': 'absent', '2024-09-22': 'present'}\n",
      "Average Attendance: 66.67%\n"
     ]
    }
   ],
   "source": [
    "class Student:\n",
    "    def __init__(self, name, age, grade, student_id):\n",
    "        self.name = name\n",
    "        self.age = age\n",
    "        self.grade = grade\n",
    "        self.student_id = student_id\n",
    "        self.attendance = {}  \n",
    "\n",
    "    def update_attendance(self, date, status):\n",
    "        self.attendance[date] = status\n",
    "        print(f\"Attendance for {self.name} has been marked {status} on {date}\")\n",
    "\n",
    "    def get_attendance(self):\n",
    "        return self.attendance\n",
    "\n",
    "    def get_average_attendance(self):\n",
    "        total_days = len(self.attendance)\n",
    "        if total_days == 0:\n",
    "            return 0\n",
    "\n",
    "        present_days = 0\n",
    "        for status in self.attendance.values():\n",
    "            if status == \"present\":\n",
    "                present_days += 1\n",
    "\n",
    "        attendance_percentage = (present_days / total_days) * 100\n",
    "        return attendance_percentage\n",
    "\n",
    "# Create a Student object\n",
    "student = Student(\"John Doe\", 16, \"10th Grade\", \"S12345\")\n",
    "\n",
    "# Update attendance\n",
    "student.update_attendance(\"2024-09-20\", \"present\")\n",
    "student.update_attendance(\"2024-09-21\", \"absent\")\n",
    "student.update_attendance(\"2024-09-22\", \"present\")\n",
    "\n",
    "# Get attendance record\n",
    "attendance_record = student.get_attendance()\n",
    "print(\"Attendance Record:\", attendance_record)\n",
    "\n",
    "# Get average attendance percentage\n",
    "average_attendance = student.get_average_attendance()\n",
    "print(f\"Average Attendance: {average_attendance:.2f}%\")\n"
   ]
  },
  {
   "cell_type": "code",
   "execution_count": null,
   "id": "2c25470f-22ee-4e2c-ae6e-2621db569486",
   "metadata": {},
   "outputs": [],
   "source": []
  }
 ],
 "metadata": {
  "kernelspec": {
   "display_name": "Python 3 (ipykernel)",
   "language": "python",
   "name": "python3"
  },
  "language_info": {
   "codemirror_mode": {
    "name": "ipython",
    "version": 3
   },
   "file_extension": ".py",
   "mimetype": "text/x-python",
   "name": "python",
   "nbconvert_exporter": "python",
   "pygments_lexer": "ipython3",
   "version": "3.11.7"
  }
 },
 "nbformat": 4,
 "nbformat_minor": 5
}
